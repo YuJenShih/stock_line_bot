{
 "metadata": {
  "language_info": {
   "codemirror_mode": {
    "name": "ipython",
    "version": 3
   },
   "file_extension": ".py",
   "mimetype": "text/x-python",
   "name": "python",
   "nbconvert_exporter": "python",
   "pygments_lexer": "ipython3",
   "version": "3.8.8"
  },
  "orig_nbformat": 2,
  "kernelspec": {
   "name": "python388jvsc74a57bd0c1451c2e2ac0dcdfcb09c1bf0c26b0ad5ad198dcbf968897ee57613de59e1bc8",
   "display_name": "Python 3.8.8 64-bit ('base': conda)"
  }
 },
 "nbformat": 4,
 "nbformat_minor": 2,
 "cells": [
  {
   "cell_type": "code",
   "execution_count": 1,
   "metadata": {},
   "outputs": [],
   "source": [
    "import yfinance as yf\n",
    "import numpy as np\n",
    "import pandas as pd\n",
    "from stock_pandas import StockDataFrame\n",
    "import plotly.graph_objs as go"
   ]
  },
  {
   "cell_type": "code",
   "execution_count": 2,
   "metadata": {},
   "outputs": [],
   "source": [
    "### Stock list\n",
    "stocks = ['pltr', 'voo', 'sq', 'akam', 'qqq']"
   ]
  },
  {
   "cell_type": "code",
   "execution_count": 19,
   "metadata": {},
   "outputs": [
    {
     "output_type": "stream",
     "name": "stdout",
     "text": [
      "[*********************100%***********************]  1 of 1 completed\n",
      "<class 'str'> <class 'pandas.core.frame.DataFrame'>\n",
      "[*********************100%***********************]  1 of 1 completed\n",
      "<class 'str'> <class 'pandas.core.frame.DataFrame'>\n",
      "[*********************100%***********************]  1 of 1 completed\n",
      "<class 'str'> <class 'pandas.core.frame.DataFrame'>\n",
      "[*********************100%***********************]  1 of 1 completed\n",
      "<class 'str'> <class 'pandas.core.frame.DataFrame'>\n",
      "[*********************100%***********************]  1 of 1 completed\n",
      "<class 'str'> <class 'pandas.core.frame.DataFrame'>\n"
     ]
    }
   ],
   "source": [
    "#### 當日價格監控\n",
    "### Get 當天 instant Data\n",
    "## .download() is for rapid use of getting data\n",
    "dic = {}\n",
    "def get_price():\n",
    "    for inst_stock in stocks:\n",
    "        raw_today = yf.download(tickers=inst_stock, period='1', interval = '1m')\n",
    "        dic[inst_stock] = raw_today\n",
    "        print(type(inst_stock), type(raw_today))\n",
    "    return dic\n",
    "get_price()\n",
    "    # print(inst_stock)  \n",
    "    # dic[stock] = st_today\n",
    "\n"
   ]
  },
  {
   "cell_type": "code",
   "execution_count": 11,
   "metadata": {},
   "outputs": [
    {
     "output_type": "execute_result",
     "data": {
      "text/plain": [
       "Date\n",
       "2020-09-30       NaN\n",
       "2020-10-01       NaN\n",
       "2020-10-02       NaN\n",
       "2020-10-05       NaN\n",
       "2020-10-06     9.418\n",
       "               ...  \n",
       "2021-05-24    20.898\n",
       "2021-05-25    20.946\n",
       "2021-05-26    21.236\n",
       "2021-05-27    21.654\n",
       "2021-05-28    22.172\n",
       "Name: ma:5,close, Length: 167, dtype: float64"
      ]
     },
     "metadata": {},
     "execution_count": 11
    }
   ],
   "source": [
    "#### 均線價格監控\n",
    "### Get History Data\n",
    "for his_stock in stocks: \n",
    "\n",
    "\n",
    "\n",
    "raw_hist_voo = yf.Ticker('voo').history(period='max')\n",
    "raw_hist_pltr = yf.Ticker('pltr').history(period='max')\n",
    "raw_hist_pltr = yf.Ticker('pltr').history(period='max')\n",
    "\n",
    "simple_voo = raw_hist_voo.drop(['High', 'Low', 'Dividends', 'Stock Splits'],    axis = 1, inplace = False)\n",
    "simple_pltr = raw_hist_pltr.drop(['High', 'Low', 'Dividends', 'Stock Splits'],  axis = 1, inplace = False)\n",
    "simple_sq = raw_hist_sq.drop(['High', 'Low', 'Dividends', 'Stock Splits'],  axis = 1, inplace = False)\n",
    "\n",
    "st_hist_voo = StockDataFrame(simple_voo)\n",
    "st_hist_pltr = StockDataFrame(simple_pltr)\n",
    "st_hist_voo.columns = ['open', 'close', 'volume']\n",
    "st_hist_pltr.columns = ['open', 'close', 'volume']\n",
    "\n",
    "\n",
    "# Short 5 MA, 10 MA\n",
    "# Med 20 MA, 60 MA\n",
    "#Long 120 MA, 200 MA\n"
   ]
  },
  {
   "cell_type": "code",
   "execution_count": null,
   "metadata": {},
   "outputs": [],
   "source": [
    "close = pltr['Adj Close'].copy()"
   ]
  },
  {
   "source": [
    "# data = yf.download(tickers='PLTR', period='1d', interval='1m')\n",
    "\n",
    "# fig = go.Figure()\n",
    "# fig.add_trace(go.Candlestick(x=data.index,\n",
    "#                             open=data['Open'],\n",
    "#                             high=data['High'],\n",
    "#                             low=data['Low'],\n",
    "#                             close=data['Close'], name = 'market data'))\n",
    "\n",
    "\n",
    "# fig.update_layout(\n",
    "#     title='VOO live share price evoliution',\n",
    "#     yaxis_title='Stock Price'\n",
    "# )\n",
    "\n",
    "# fig.update_xaxes(\n",
    "#     rangeslider_visible = True,\n",
    "#     rangeselector = dict(\n",
    "#         buttons = list([\n",
    "#             dict(count=15, label='15m', step='minute', stepmode='backward'),\n",
    "#             dict(count=45, label='45m', step='minute', stepmode='backward'),\n",
    "#             dict(count=1, label='HTD', step='hour', stepmode='todate'),\n",
    "#             dict(count=3, label='3h', step='hour', stepmode='backward'),\n",
    "#             dict(step='all')\n",
    "#         ])\n",
    "#     )\n",
    "# )\n",
    "# fig.show()"
   ],
   "cell_type": "code",
   "metadata": {},
   "execution_count": null,
   "outputs": []
  }
 ]
}